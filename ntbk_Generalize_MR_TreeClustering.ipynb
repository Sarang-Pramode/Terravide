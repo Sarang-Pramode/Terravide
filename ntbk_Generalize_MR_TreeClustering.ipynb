{
 "cells": [
  {
   "attachments": {},
   "cell_type": "markdown",
   "metadata": {},
   "source": [
    "# Download Lidar Tilesets and Perform MR classifcation"
   ]
  },
  {
   "cell_type": "code",
   "execution_count": 1,
   "metadata": {},
   "outputs": [],
   "source": [
    "import src.modules.utils as util"
   ]
  },
  {
   "cell_type": "code",
   "execution_count": 2,
   "metadata": {},
   "outputs": [
    {
     "name": "stdout",
     "output_type": "stream",
     "text": [
      "[UTIL] Function - Datayear :  2017\n",
      "File Exists\n"
     ]
    },
    {
     "data": {
      "text/plain": [
       "\"TODO \\nIterate and download all ftp file\\n\\n# Use below code snippet as referance \\nfilenames = ftp.nlst() # get filenames within the directory\\nprint filenames\\n\\nfor filename in filenames:\\n    local_filename = os.path.join('C:\\\\test\\\\', filename)\\n    file = open(local_filename, 'wb')\\n    ftp.retrbinary('RETR '+ filename, file.write)\\n\\n    file.close()\\n\\nftp.quit() # This is the “polite” way to close a connection\\n\\n\""
      ]
     },
     "execution_count": 2,
     "metadata": {},
     "output_type": "execute_result"
    }
   ],
   "source": [
    "# Download Las File to hard disk\n",
    "las_fileID = 25192\n",
    "year = 2017\n",
    "\n",
    "Filename = str(las_fileID)+'.las'\n",
    "External_Disk_Path = '/Volumes/Elements/Terravide/Datasets/FTP_files/LiDAR/'\n",
    "util.FTP_download_lasfile(Filename,year,folderpath=External_Disk_Path)\n",
    "\n",
    "\"\"\"TODO \n",
    "Iterate and download all ftp file\n",
    "\n",
    "# Use below code snippet as referance \n",
    "filenames = ftp.nlst() # get filenames within the directory\n",
    "print filenames\n",
    "\n",
    "for filename in filenames:\n",
    "    local_filename = os.path.join('C:\\\\test\\\\', filename)\n",
    "    file = open(local_filename, 'wb')\n",
    "    ftp.retrbinary('RETR '+ filename, file.write)\n",
    "\n",
    "    file.close()\n",
    "\n",
    "ftp.quit() # This is the “polite” way to close a connection\n",
    "\n",
    "\"\"\""
   ]
  },
  {
   "cell_type": "code",
   "execution_count": 3,
   "metadata": {},
   "outputs": [],
   "source": [
    "import src.modules.MultipleReturnsClassification as MRC\n",
    "import time\n",
    "import pptk\n",
    "import numpy as np\n",
    "import seaborn as sns \n",
    "\n",
    "from scipy.spatial.distance import pdist\n"
   ]
  },
  {
   "cell_type": "code",
   "execution_count": 4,
   "metadata": {},
   "outputs": [],
   "source": [
    "#User Defines (Also in Utils)\n",
    "\n",
    "def View3Dpoints(points, color=[[1,0,0]]):\n",
    "    \"\"\"Calls PPTK with basic config to plot 3d points\n",
    "\n",
    "    Args:\n",
    "        points (Nx3 Numpy Array): NX3 numpy array\n",
    "    \"\"\"\n",
    "    exitViewerFlag = False\n",
    "    while not exitViewerFlag:\n",
    "        v = pptk.viewer(points, color*len(points))\n",
    "        v.set(show_grid=False)\n",
    "        v.set(show_axis=False)\n",
    "        v.set(bg_color = [0,0,0,0])\n",
    "        v.set(point_size = 0.0004)\n",
    "        exitViewerFlag = int(input(\"Enter a 1 to exit viewer : \"))\n",
    "\n",
    "    v.close()\n",
    "\n",
    "    return None"
   ]
  },
  {
   "cell_type": "code",
   "execution_count": 5,
   "metadata": {},
   "outputs": [
    {
     "data": {
      "text/plain": [
       "<pptk.viewer.viewer.viewer at 0x7f7fe053aa90>"
      ]
     },
     "execution_count": 5,
     "metadata": {},
     "output_type": "execute_result"
    }
   ],
   "source": [
    "#Object to handle las preprocessing\n",
    "LasHandling = MRC.LFP\n",
    "\n",
    "#record start time of script\n",
    "script_start = time.time()\n",
    "\n",
    "\n",
    "TileDivision = 12\n",
    "rows, cols = (TileDivision, TileDivision)\n",
    "\n",
    "\n",
    "lasfilepath = External_Disk_Path+'NYC_'+str(year)+'/'+str(las_fileID)+'.las'\n",
    "\n",
    "#Read las file\n",
    "lasfile_object = LasHandling.Read_lasFile(lasfilepath)\n",
    "\n",
    "#Create Dataframe from lasfile\n",
    "lidar_df, rawpoints = LasHandling.Create_lasFileDataframe(lasfileObject=lasfile_object)\n",
    "\n",
    "#Divide lidar_df into smaller portion for development\n",
    "portion_size = 100 # 1-100 %\n",
    "lidar_df = lidar_df.head(int(len(lidar_df)*(portion_size/100)))\n",
    "\n",
    "#sanity check\n",
    "pptk.viewer(lidar_df.iloc[:,:3].to_numpy())"
   ]
  },
  {
   "cell_type": "code",
   "execution_count": 6,
   "metadata": {},
   "outputs": [],
   "source": [
    "#Extract MR and SR points from Dataframe\n",
    "MR_df = LasHandling.Get_MRpoints(lidar_df)\n",
    "SR_df = LasHandling.Get_SRpoints(lidar_df)\n",
    "\n",
    "#lasTile class\n",
    "TileObj_SR = MRC.MR_class(SR_df,TileDivision) #Single Return Points\n",
    "TileObj_MR = MRC.MR_class(MR_df,TileDivision) #Multiple Return Points\n",
    "\n",
    "#Serialized Creation of Lidar Subtiles\n",
    "lidar_TilesubsetArr = TileObj_MR.Get_subtileArray()\n",
    "\n",
    "# type(lidar_TilesubsetArr[0][0]) -> pandas.core.frame.DataFrame\n",
    "# [[0]*self.cols for _ in range(self.rows)]\n",
    "\n",
    "#---------------------------------------------------------------------\n",
    "\n",
    "# #sanity check\n",
    "# temp_segmentPoints = lidar_TilesubsetArr[1][0].iloc[:,:3].to_numpy()\n",
    "# pptk.viewer(temp_segmentPoints)\n",
    "\n",
    "# #MR points plot\n",
    "# pptk.viewer(MR_df.iloc[:,:3].to_numpy())\n",
    "\n",
    "# #SR points plot\n",
    "# pptk.viewer(SR_df.iloc[:,:3].to_numpy())"
   ]
  },
  {
   "cell_type": "code",
   "execution_count": 7,
   "metadata": {},
   "outputs": [
    {
     "name": "stdout",
     "output_type": "stream",
     "text": [
      "40.69963574170024,-73.84812319726677\n"
     ]
    }
   ],
   "source": [
    "#Print Lat , Long\n",
    "ix, iy = np.mean(MR_df.X.to_numpy()), np.mean(MR_df.Y.to_numpy()) \n",
    "\n",
    "from pyproj import Transformer\n",
    "\n",
    "transformer = Transformer.from_crs(\"epsg:2263\", \"epsg:4326\")\n",
    "lat, lon = transformer.transform(ix*3.28, iy*3.28)\n",
    "print(str(lat)+\",\"+str(lon))"
   ]
  },
  {
   "attachments": {},
   "cell_type": "markdown",
   "metadata": {},
   "source": [
    "## Find optimal eps"
   ]
  },
  {
   "cell_type": "code",
   "execution_count": 8,
   "metadata": {},
   "outputs": [],
   "source": [
    "import numpy as np\n",
    "import matplotlib.pyplot as plt\n",
    "\n",
    "from mpl_toolkits.mplot3d import Axes3D\n",
    "from sklearn.cluster import DBSCAN\n",
    "\n",
    "from sklearn.cluster import DBSCAN\n",
    "from sklearn.metrics import silhouette_score # How best can we seperate clusters\n",
    "\n",
    "from scipy.stats import ks_2samp #Check how different each distributions are"
   ]
  },
  {
   "cell_type": "code",
   "execution_count": 12,
   "metadata": {},
   "outputs": [],
   "source": [
    "\n",
    "\n",
    "def Get_Optimal_EPS(points, step=0.2):\n",
    "\n",
    "    #Find EPS ranges to try\n",
    "    distances = pdist(points) # takes a while to find pdist with lots of points\n",
    "    avgDist = round(np.mean(distances),3)\n",
    "    eps_start = round(avgDist**(1/10),1)\n",
    "    eps_end = eps_start + 0.5 #round(avgDist**(1/3),1)\n",
    "\n",
    "    # eps_start  = 1.4\n",
    "    # eps_end = 2.4\n",
    "    # Logs \n",
    "\n",
    "    print(\"Avg Dist : \", avgDist)\n",
    "    print(\"EPS 1 : \",eps_start)\n",
    "    print(\"EPS 2 : \",eps_end)\n",
    "    print(\"EPS ITER Count : \",(eps_end - eps_start)/0.1)\n",
    "\n",
    "    S_score_eps_hashmap = {} # S_score -> eps\n",
    "    range_eps = np.arange(eps_start, eps_end, step)\n",
    "        #range_min_samples = [10,20,30,40,50]\n",
    "\n",
    "    for ep in range_eps :\n",
    "                \n",
    "        db = DBSCAN(eps=ep, min_samples=60).fit(points)\n",
    "        core_samples_mask = np.zeros_like(db.labels_, dtype=bool)\n",
    "        core_samples_mask[db.core_sample_indices_] = True\n",
    "        labels = db.labels_\n",
    "        #print(set(labels))\n",
    "        if(len(set(labels))) < 2 :\n",
    "             return (1.5,0)\n",
    "        silhouette_avg = silhouette_score(points, labels)\n",
    "        print(\"For eps value = \",ep, \"The average silhouette_score is :\", silhouette_avg)\n",
    "\n",
    "        if silhouette_avg not in S_score_eps_hashmap:\n",
    "            S_score_eps_hashmap[silhouette_avg] = ep\n",
    "        \n",
    "        Best_eps = S_score_eps_hashmap[max(S_score_eps_hashmap)]\n",
    "    \n",
    "    return (round(Best_eps,1), max(S_score_eps_hashmap))\n",
    "\n",
    "def Normalize_points(points):\n",
    "    return points / np.linalg.norm(points)\n"
   ]
  },
  {
   "cell_type": "code",
   "execution_count": 13,
   "metadata": {},
   "outputs": [
    {
     "name": "stdout",
     "output_type": "stream",
     "text": [
      "----------------------------------------\n",
      "TILE ID :  0\n",
      "Avg Dist :  30.593\n",
      "EPS 1 :  1.4\n",
      "EPS 2 :  1.9\n",
      "EPS ITER Count :  5.0\n",
      "For eps value =  1.4 The average silhouette_score is : -0.44795794320865057\n",
      "For eps value =  1.5999999999999999 The average silhouette_score is : -0.2735613349271298\n",
      "For eps value =  1.7999999999999998 The average silhouette_score is : -0.2667813837864541\n",
      "OPTIMAL EPS :  1.8\n",
      "Trees added\n",
      "----------------------------------------\n",
      "TILE ID :  1\n",
      "KS Stat :  0.2797038214358918\n",
      "OPTIMAL EPS :  1.8\n",
      "Trees added\n",
      "----------------------------------------\n",
      "TILE ID :  2\n",
      "KS Stat :  0.18493390621607714\n",
      "OPTIMAL EPS :  1.8\n",
      "Trees added\n",
      "----------------------------------------\n",
      "TILE ID :  3\n",
      "KS Stat :  0.5755880097138025\n",
      "Avg Dist :  36.074\n",
      "EPS 1 :  1.4\n",
      "EPS 2 :  1.9\n",
      "EPS ITER Count :  5.0\n",
      "For eps value =  1.4 The average silhouette_score is : -0.5600984246867063\n",
      "For eps value =  1.5999999999999999 The average silhouette_score is : -0.5122161650522695\n",
      "For eps value =  1.7999999999999998 The average silhouette_score is : -0.1860299258264173\n",
      "OPTIMAL EPS :  1.8\n",
      "Trees added\n",
      "----------------------------------------\n",
      "TILE ID :  4\n",
      "KS Stat :  0.27252950018556976\n",
      "OPTIMAL EPS :  1.8\n",
      "Trees added\n",
      "----------------------------------------\n",
      "TILE ID :  5\n",
      "KS Stat :  0.21144086265717799\n",
      "OPTIMAL EPS :  1.8\n",
      "Trees added\n",
      "----------------------------------------\n",
      "TILE ID :  6\n",
      "KS Stat :  0.2666428728502769\n",
      "OPTIMAL EPS :  1.8\n",
      "Trees added\n",
      "----------------------------------------\n",
      "TILE ID :  7\n",
      "KS Stat :  0.4656943192357776\n",
      "OPTIMAL EPS :  1.8\n",
      "Trees added\n",
      "----------------------------------------\n",
      "TILE ID :  8\n",
      "KS Stat :  0.1908261280385417\n",
      "OPTIMAL EPS :  1.8\n",
      "Trees added\n",
      "----------------------------------------\n",
      "TILE ID :  9\n",
      "KS Stat :  0.7277954810534658\n",
      "Avg Dist :  30.205\n",
      "EPS 1 :  1.4\n",
      "EPS 2 :  1.9\n",
      "EPS ITER Count :  5.0\n",
      "For eps value =  1.4 The average silhouette_score is : -0.5980235513765274\n",
      "For eps value =  1.5999999999999999 The average silhouette_score is : -0.4104861112970414\n",
      "For eps value =  1.7999999999999998 The average silhouette_score is : -0.30941662417227134\n",
      "OPTIMAL EPS :  1.8\n",
      "Trees added\n",
      "----------------------------------------\n",
      "TILE ID :  10\n",
      "KS Stat :  1.0\n",
      "Avg Dist :  19.692\n",
      "EPS 1 :  1.3\n",
      "EPS 2 :  1.8\n",
      "EPS ITER Count :  5.0\n",
      "OPTIMAL EPS :  1.5\n",
      "Trees added\n",
      "----------------------------------------\n",
      "TILE ID :  11\n",
      "KS Stat :  0.34262538334692677\n",
      "OPTIMAL EPS :  1.5\n",
      "Trees added\n",
      "----------------------------------------\n",
      "TILE ID :  12\n",
      "KS Stat :  0.1432897475269601\n",
      "OPTIMAL EPS :  1.8\n",
      "Trees added\n",
      "----------------------------------------\n",
      "TILE ID :  13\n",
      "KS Stat :  0.1868860952894668\n",
      "OPTIMAL EPS :  1.8\n",
      "Trees added\n",
      "----------------------------------------\n",
      "TILE ID :  14\n",
      "KS Stat :  0.25754670834762367\n",
      "OPTIMAL EPS :  1.8\n",
      "Trees added\n",
      "----------------------------------------\n",
      "TILE ID :  15\n",
      "KS Stat :  0.18766253798291113\n",
      "OPTIMAL EPS :  1.8\n",
      "Trees added\n",
      "----------------------------------------\n",
      "TILE ID :  16\n",
      "KS Stat :  0.2120034512313414\n",
      "OPTIMAL EPS :  1.8\n",
      "Trees added\n",
      "----------------------------------------\n",
      "TILE ID :  17\n",
      "KS Stat :  0.1539947673674989\n",
      "OPTIMAL EPS :  1.8\n",
      "Trees added\n",
      "----------------------------------------\n",
      "TILE ID :  18\n",
      "KS Stat :  0.5301662736024532\n",
      "Avg Dist :  32.263\n",
      "EPS 1 :  1.4\n",
      "EPS 2 :  1.9\n",
      "EPS ITER Count :  5.0\n",
      "For eps value =  1.4 The average silhouette_score is : -0.43010942754722986\n",
      "For eps value =  1.5999999999999999 The average silhouette_score is : -0.38754933475477\n",
      "For eps value =  1.7999999999999998 The average silhouette_score is : -0.16033403754802847\n",
      "OPTIMAL EPS :  1.8\n",
      "Trees added\n",
      "----------------------------------------\n",
      "TILE ID :  19\n",
      "KS Stat :  0.6889825519053676\n",
      "Avg Dist :  34.664\n",
      "EPS 1 :  1.4\n",
      "EPS 2 :  1.9\n",
      "EPS ITER Count :  5.0\n",
      "For eps value =  1.4 The average silhouette_score is : -0.42243867156807\n",
      "For eps value =  1.5999999999999999 The average silhouette_score is : -0.4639431452049742\n",
      "For eps value =  1.7999999999999998 The average silhouette_score is : -0.4167334502937745\n",
      "OPTIMAL EPS :  1.8\n",
      "Trees added\n",
      "----------------------------------------\n",
      "TILE ID :  20\n",
      "KS Stat :  0.24040680707693163\n",
      "OPTIMAL EPS :  1.8\n",
      "Trees added\n",
      "----------------------------------------\n",
      "TILE ID :  21\n",
      "KS Stat :  0.2957460218393374\n",
      "OPTIMAL EPS :  1.8\n",
      "Trees added\n",
      "----------------------------------------\n",
      "TILE ID :  22\n",
      "KS Stat :  0.17594641949763482\n",
      "OPTIMAL EPS :  1.8\n",
      "Trees added\n",
      "----------------------------------------\n",
      "TILE ID :  23\n",
      "KS Stat :  0.69925371741052\n",
      "Avg Dist :  32.714\n",
      "EPS 1 :  1.4\n",
      "EPS 2 :  1.9\n",
      "EPS ITER Count :  5.0\n",
      "For eps value =  1.4 The average silhouette_score is : -0.5229091179763979\n",
      "For eps value =  1.5999999999999999 The average silhouette_score is : -0.344905626770281\n",
      "For eps value =  1.7999999999999998 The average silhouette_score is : -0.39318602378376055\n",
      "OPTIMAL EPS :  1.6\n",
      "Trees added\n",
      "----------------------------------------\n",
      "TILE ID :  24\n",
      "KS Stat :  0.3465420595363802\n",
      "OPTIMAL EPS :  1.8\n",
      "Trees added\n",
      "----------------------------------------\n",
      "TILE ID :  25\n",
      "KS Stat :  0.11756151939476556\n",
      "OPTIMAL EPS :  1.8\n",
      "Trees added\n",
      "----------------------------------------\n",
      "TILE ID :  26\n",
      "KS Stat :  0.25885359999510177\n",
      "OPTIMAL EPS :  1.8\n",
      "Trees added\n",
      "----------------------------------------\n",
      "TILE ID :  27\n",
      "KS Stat :  0.12960509764597916\n",
      "OPTIMAL EPS :  1.8\n",
      "Trees added\n",
      "----------------------------------------\n",
      "TILE ID :  28\n",
      "KS Stat :  0.1858855304421719\n",
      "OPTIMAL EPS :  1.8\n",
      "Trees added\n",
      "----------------------------------------\n",
      "TILE ID :  29\n",
      "KS Stat :  0.16189456185302953\n",
      "OPTIMAL EPS :  1.8\n",
      "Trees added\n",
      "----------------------------------------\n",
      "TILE ID :  30\n",
      "KS Stat :  0.6410716199747956\n",
      "Avg Dist :  34.226\n",
      "EPS 1 :  1.4\n",
      "EPS 2 :  1.9\n",
      "EPS ITER Count :  5.0\n",
      "For eps value =  1.4 The average silhouette_score is : -0.09372945528048503\n",
      "For eps value =  1.5999999999999999 The average silhouette_score is : -0.2653179039099082\n",
      "For eps value =  1.7999999999999998 The average silhouette_score is : -0.10187181296231808\n",
      "OPTIMAL EPS :  1.4\n",
      "Trees added\n",
      "----------------------------------------\n",
      "TILE ID :  31\n",
      "KS Stat :  0.19230795409512547\n",
      "OPTIMAL EPS :  1.8\n",
      "Trees added\n",
      "----------------------------------------\n",
      "TILE ID :  32\n",
      "KS Stat :  0.3456702412059136\n",
      "OPTIMAL EPS :  1.8\n",
      "Trees added\n",
      "----------------------------------------\n",
      "TILE ID :  33\n",
      "KS Stat :  0.26500039111973384\n",
      "OPTIMAL EPS :  1.8\n",
      "Trees added\n",
      "----------------------------------------\n",
      "TILE ID :  34\n",
      "KS Stat :  0.37186635584197564\n",
      "OPTIMAL EPS :  1.6\n",
      "Trees added\n",
      "----------------------------------------\n",
      "TILE ID :  35\n",
      "KS Stat :  0.19293555272682295\n",
      "OPTIMAL EPS :  1.6\n",
      "Trees added\n"
     ]
    },
    {
     "data": {
      "text/plain": [
       "<pptk.viewer.viewer.viewer at 0x7f7ee2895c88>"
      ]
     },
     "execution_count": 13,
     "metadata": {},
     "output_type": "execute_result"
    }
   ],
   "source": [
    "Tilecounter = 0\n",
    "Trees_Buffer = []\n",
    "\n",
    "# Hashmap to store eps with distribution\n",
    "EPS_Distribution_Hmap = {} # Df_Z -> eps\n",
    "\n",
    "for row in range(3):\n",
    "    for col in range(12):\n",
    "\n",
    "        print('-'*40)\n",
    "        \n",
    "        print(\"TILE ID : \",Tilecounter)\n",
    "        Tilecounter = Tilecounter + 1\n",
    "\n",
    "        \n",
    "        tile_segment_points = lidar_TilesubsetArr[row][col].iloc[:,:3].to_numpy()\n",
    "\n",
    "        # tile_segment_points_X = lidar_TilesubsetArr[row][col].iloc[:,0].to_numpy()\n",
    "        # tile_segment_points_Y = lidar_TilesubsetArr[row][col].iloc[:,1].to_numpy()\n",
    "        # tile_segment_points_Z = lidar_TilesubsetArr[row][col].iloc[:,2].to_numpy()\n",
    "        \n",
    "        if (len(tile_segment_points) > 0):\n",
    "\n",
    "            if not EPS_Distribution_Hmap: #Dict is empty\n",
    "                \n",
    "                #find optimal EPS\n",
    "                Optimal_EPS, S_Score = Get_Optimal_EPS(tile_segment_points)\n",
    "\n",
    "                # Mapping Z distribution -> eps value,  to check KS_statistic later to compare distribution\n",
    "                EPS_Distribution_Hmap[tuple(tile_segment_points[:,2])] = [Optimal_EPS,S_Score]\n",
    "            \n",
    "            else: #Dict is not empty\n",
    "\n",
    "                #Find Minimum KS statistic and check is KS statistic is less than 0.5 (arbitarily chosen)\n",
    "\n",
    "                KS_stat_list = [] # Empty list for each tile to compare KS statistic as seen from previous tiles\n",
    "                min_KS_stat_info = [100,-1] #[KS_stat, Key of dict after comparison] #default 100,-1\n",
    "\n",
    "                for k in EPS_Distribution_Hmap.keys() : \n",
    "\n",
    "                    z1 = Normalize_points(k) # get Z_points from dict\n",
    "                    z2 = Normalize_points(tile_segment_points[:,2]) # get Z_points from new tile\n",
    "\n",
    "                    cur_statistic, pvalue = ks_2samp(z1, z2) #compare\n",
    "\n",
    "                    #Logs\n",
    "                    # print(f'K-S statistic (z): {cur_statistic:.3f}')\n",
    "                    # print(f'p-value (z): {pvalue:.3f}')\n",
    "\n",
    "                    #if pvalue < 0.05: #p < 0.05 , # NOTE: Not sure to include, maybe identical buildings?\n",
    "                    KS_stat_list.append(cur_statistic) #add to list\n",
    "\n",
    "                    if cur_statistic < min_KS_stat_info[0]:\n",
    "                        #update best distribution\n",
    "                        min_KS_stat_info[0] = cur_statistic\n",
    "                        min_KS_stat_info[1] = k\n",
    "                \n",
    "                print(\"KS Stat : \",min_KS_stat_info[0])\n",
    "\n",
    "                #NOTE : #if KS_statistic is significant (high) it represents that the 2 disttribtuions are very Different and likely drawn from different distributions\n",
    "\n",
    "                if min_KS_stat_info[0] < 0.5: \n",
    "\n",
    "                    #get optimal eps from best matching distribution\n",
    "\n",
    "                    Optimal_EPS, S_Score = EPS_Distribution_Hmap[min_KS_stat_info[1]] #Get the optimal eps and s_score by passing key (df_z values) of best match (low KS)\n",
    "                else:\n",
    "\n",
    "                    #Recalculate EPS and add it to hashmap \n",
    "\n",
    "                    #find optimal EPS\n",
    "                    Optimal_EPS, S_Score = Get_Optimal_EPS(tile_segment_points)\n",
    "\n",
    "                    # Mapping Z distribution -> eps value,  to check KS_statistic later to compare distribution\n",
    "                    EPS_Distribution_Hmap[tuple(tile_segment_points[:,2])] = [Optimal_EPS,S_Score]\n",
    "                    \n",
    "                \n",
    "            # Logs\n",
    "            print(\"OPTIMAL EPS : \",Optimal_EPS)\n",
    "            \n",
    "\n",
    "            subTileTree_Points,  _ = TileObj_MR.Classify_MultipleReturns(tile_segment_points)\n",
    "\n",
    "            for t in subTileTree_Points:\n",
    "                Trees_Buffer.append(t)\n",
    "            \n",
    "            print(\"Trees added\")\n",
    "\n",
    "Trees_Buffer = np.array(Trees_Buffer)\n",
    "\n",
    "pptk.viewer(Trees_Buffer)"
   ]
  },
  {
   "cell_type": "code",
   "execution_count": 25,
   "metadata": {},
   "outputs": [
    {
     "data": {
      "text/plain": [
       "<pptk.viewer.viewer.viewer at 0x7fb7a3172d68>"
      ]
     },
     "execution_count": 25,
     "metadata": {},
     "output_type": "execute_result"
    }
   ],
   "source": [
    "pptk.viewer(Trees_Buffer)"
   ]
  },
  {
   "cell_type": "code",
   "execution_count": 12,
   "metadata": {},
   "outputs": [
    {
     "data": {
      "text/plain": [
       "<pptk.viewer.viewer.viewer at 0x7fb806284048>"
      ]
     },
     "execution_count": 12,
     "metadata": {},
     "output_type": "execute_result"
    }
   ],
   "source": [
    "pptk.viewer(MR_df.iloc[:,:3].to_numpy())"
   ]
  },
  {
   "cell_type": "code",
   "execution_count": 13,
   "metadata": {},
   "outputs": [
    {
     "name": "stdout",
     "output_type": "stream",
     "text": [
      "[0.98601513 0.16665581]\n",
      "[0.98571926 0.16839699]\n",
      "[0.99192859 0.12679778]\n",
      "[1. 0.]\n",
      "[ 0.99924675 -0.03880643]\n",
      "[ 0.99975419 -0.02217133]\n",
      "[ 0.99911455 -0.04207264]\n"
     ]
    }
   ],
   "source": [
    "for k in EPS_Distribution_Hmap.keys() : \n",
    "\n",
    "    z1 = Normalize_points(EPS_Distribution_Hmap[k]) # get Z_points from dict\n",
    "    print(z1)"
   ]
  },
  {
   "cell_type": "code",
   "execution_count": 14,
   "metadata": {},
   "outputs": [
    {
     "name": "stdout",
     "output_type": "stream",
     "text": [
      "0\n"
     ]
    },
    {
     "ename": "TypeError",
     "evalue": "'dict_keys' object does not support indexing",
     "output_type": "error",
     "traceback": [
      "\u001b[0;31m---------------------------------------------------------------------------\u001b[0m",
      "\u001b[0;31mTypeError\u001b[0m                                 Traceback (most recent call last)",
      "\u001b[0;32m<ipython-input-14-f953ea2fd5e1>\u001b[0m in \u001b[0;36m<module>\u001b[0;34m\u001b[0m\n\u001b[1;32m      3\u001b[0m \u001b[0;32mfor\u001b[0m \u001b[0mk\u001b[0m \u001b[0;32min\u001b[0m \u001b[0mrange\u001b[0m\u001b[0;34m(\u001b[0m\u001b[0mlen\u001b[0m\u001b[0;34m(\u001b[0m\u001b[0mhmap_Keys\u001b[0m\u001b[0;34m)\u001b[0m\u001b[0;34m)\u001b[0m\u001b[0;34m:\u001b[0m\u001b[0;34m\u001b[0m\u001b[0;34m\u001b[0m\u001b[0m\n\u001b[1;32m      4\u001b[0m     \u001b[0mprint\u001b[0m\u001b[0;34m(\u001b[0m\u001b[0mk\u001b[0m\u001b[0;34m)\u001b[0m\u001b[0;34m\u001b[0m\u001b[0;34m\u001b[0m\u001b[0m\n\u001b[0;32m----> 5\u001b[0;31m     \u001b[0mprint\u001b[0m\u001b[0;34m(\u001b[0m\u001b[0mlen\u001b[0m\u001b[0;34m(\u001b[0m\u001b[0mhmap_Keys\u001b[0m\u001b[0;34m[\u001b[0m\u001b[0mk\u001b[0m\u001b[0;34m]\u001b[0m\u001b[0;34m)\u001b[0m\u001b[0;34m)\u001b[0m\u001b[0;34m\u001b[0m\u001b[0;34m\u001b[0m\u001b[0m\n\u001b[0m\u001b[1;32m      6\u001b[0m \u001b[0;34m\u001b[0m\u001b[0m\n\u001b[1;32m      7\u001b[0m     \u001b[0mz1\u001b[0m \u001b[0;34m=\u001b[0m \u001b[0mNormalize_points\u001b[0m\u001b[0;34m(\u001b[0m\u001b[0mEPS_Distribution_Hmap\u001b[0m\u001b[0;34m[\u001b[0m\u001b[0mhmap_Keys\u001b[0m\u001b[0;34m[\u001b[0m\u001b[0mk\u001b[0m\u001b[0;34m]\u001b[0m\u001b[0;34m]\u001b[0m\u001b[0;34m)\u001b[0m \u001b[0;31m# get Z_points from dict\u001b[0m\u001b[0;34m\u001b[0m\u001b[0;34m\u001b[0m\u001b[0m\n",
      "\u001b[0;31mTypeError\u001b[0m: 'dict_keys' object does not support indexing"
     ]
    }
   ],
   "source": [
    "hmap_Keys = EPS_Distribution_Hmap.keys()\n",
    "\n",
    "for k in range(len(hmap_Keys)):\n",
    "    print(k)\n",
    "    print(len(hmap_Keys[k]))\n",
    "\n",
    "    z1 = Normalize_points(EPS_Distribution_Hmap[hmap_Keys[k]]) # get Z_points from dict"
   ]
  },
  {
   "cell_type": "code",
   "execution_count": null,
   "metadata": {},
   "outputs": [],
   "source": [
    "t1 = Normalize_points(lidar_TilesubsetArr[0][0].iloc[:,:3].to_numpy())\n",
    "t2 = Normalize_points(lidar_TilesubsetArr[0][1].iloc[:,:3].to_numpy())"
   ]
  },
  {
   "cell_type": "code",
   "execution_count": null,
   "metadata": {},
   "outputs": [
    {
     "name": "stderr",
     "output_type": "stream",
     "text": [
      "/opt/anaconda3/envs/py36-test/lib/python3.6/site-packages/seaborn/_decorators.py:43: FutureWarning: Pass the following variables as keyword args: x, y. From version 0.12, the only valid positional argument will be `data`, and passing other arguments without an explicit keyword will result in an error or misinterpretation.\n",
      "  FutureWarning\n"
     ]
    },
    {
     "data": {
      "text/plain": [
       "<seaborn.axisgrid.JointGrid at 0x7fedee5ca748>"
      ]
     },
     "execution_count": 19,
     "metadata": {},
     "output_type": "execute_result"
    },
    {
     "data": {
      "image/png": "[encoded data removed]",
      "text/plain": [
       "<Figure size 432x432 with 3 Axes>"
      ]
     },
     "metadata": {
      "needs_background": "light"
     },
     "output_type": "display_data"
    }
   ],
   "source": [
    "sns.jointplot(t1[:,0], t1[:,1], kind='scatter')"
   ]
  },
  {
   "cell_type": "code",
   "execution_count": null,
   "metadata": {},
   "outputs": [
    {
     "name": "stdout",
     "output_type": "stream",
     "text": [
      "K-S statistic (x): 1.000\n",
      "p-value (x): 0.000\n",
      "K-S statistic (y): 1.000\n",
      "p-value (y): 0.000\n",
      "K-S statistic (z): 0.082\n",
      "p-value (z): 0.000\n"
     ]
    }
   ],
   "source": [
    "from scipy.stats import ks_2samp\n",
    "\n",
    "\n",
    "# Extract the x and y coordinates from the point cloud datasets\n",
    "x1 = t1[:,0]\n",
    "y1 = t1[:,1]\n",
    "z1 = t1[:,2]\n",
    "x2 = t2[:,0]\n",
    "y2 = t2[:,1]\n",
    "z2 = t2[:,2]\n",
    "\n",
    "# Perform the K-S test on the x coordinates\n",
    "statistic, pvalue = ks_2samp(x1, x2)\n",
    "print(f'K-S statistic (x): {statistic:.3f}')\n",
    "print(f'p-value (x): {pvalue:.3f}')\n",
    "\n",
    "# Perform the K-S test on the y coordinates\n",
    "statistic, pvalue = ks_2samp(y1, y2)\n",
    "print(f'K-S statistic (y): {statistic:.3f}')\n",
    "print(f'p-value (y): {pvalue:.3f}')\n",
    "\n",
    "\n",
    "#NOTE : Z value varies the most, if KS is large , there are from different distributions\n",
    "# Perform the K-S test on the z coordinates\n",
    "statistic, pvalue = ks_2samp(z1, z2)\n",
    "print(f'K-S statistic (z): {statistic:.3f}')\n",
    "print(f'p-value (z): {pvalue:.3f}')"
   ]
  },
  {
   "cell_type": "code",
   "execution_count": null,
   "metadata": {},
   "outputs": [
    {
     "data": {
      "image/png": "[encoded data removed]",
      "text/plain": [
       "<Figure size 864x288 with 2 Axes>"
      ]
     },
     "metadata": {
      "needs_background": "light"
     },
     "output_type": "display_data"
    }
   ],
   "source": [
    "import matplotlib.pyplot as plt\n",
    "\n",
    "z1 = norm1[:,2]\n",
    "z2 = norm2[:,2]\n",
    "\n",
    "# Set up the figure and axes for the histograms\n",
    "fig, (ax1, ax2) = plt.subplots(1, 2, figsize=(12,4))\n",
    "\n",
    "# Plot the histogram for the z1 norm1\n",
    "ax1.hist(z1, bins=20)\n",
    "ax1.set_xlabel('z1')\n",
    "ax1.set_ylabel('count')\n",
    "\n",
    "# Plot the histogram for the z2 norm2\n",
    "ax2.hist(z2, bins=20)\n",
    "ax2.set_xlabel('z2')\n",
    "ax2.set_ylabel('count')\n",
    "\n",
    "\n",
    "# Show the figure\n",
    "plt.show()\n"
   ]
  },
  {
   "cell_type": "code",
   "execution_count": null,
   "metadata": {},
   "outputs": [
    {
     "data": {
      "text/plain": [
       "<pptk.viewer.viewer.viewer at 0x7fbff6f3f470>"
      ]
     },
     "execution_count": 39,
     "metadata": {},
     "output_type": "execute_result"
    }
   ],
   "source": [
    "# Tilecounter = 0\n",
    "\n",
    "Trees_Buffer = []\n",
    "for row in range(1):\n",
    "    for col in range(1):\n",
    "        # print(Tilecounter)\n",
    "        # Tilecounter = Tilecounter + 1\n",
    "\n",
    "        tile_segment_points = lidar_TilesubsetArr[row][col].iloc[:,:3].to_numpy()\n",
    "        \n",
    "        subTileTree_Points,  _ = TileObj_MR.Classify_MultipleReturns(tile_segment_points,hp_eps=2)\n",
    "\n",
    "        for t in subTileTree_Points:\n",
    "            Trees_Buffer.append(t)\n",
    "\n",
    "Trees_Buffer = np.array(Trees_Buffer)\n",
    "\n",
    "pptk.viewer(Trees_Buffer)"
   ]
  },
  {
   "cell_type": "code",
   "execution_count": null,
   "metadata": {},
   "outputs": [
    {
     "name": "stdout",
     "output_type": "stream",
     "text": [
      "Multiple Returns Classifcation Algorithm : FILDE ID - 7252\n",
      "0\n",
      "Avg Dist :  20.020462684706374\n",
      "EPS :  2.115283235838168\n",
      "1\n",
      "Avg Dist :  21.22084267269777\n",
      "EPS :  2.146301140771714\n",
      "2\n",
      "Avg Dist :  20.882087982739392\n",
      "EPS :  2.137683870246342\n",
      "3\n",
      "Avg Dist :  9.755550313640029\n",
      "EPS :  1.7673108482173312\n",
      "4\n",
      "Avg Dist :  nan\n",
      "EPS :  nan\n",
      "\u001b[1;33m[Open3D WARNING] [KDTreeFlann::SetRawData] Failed due to no data.\u001b[0;m\n",
      "5\n",
      "Avg Dist :  nan\n",
      "EPS :  nan\n",
      "\u001b[1;33m[Open3D WARNING] [KDTreeFlann::SetRawData] Failed due to no data.\u001b[0;m\n",
      "6\n",
      "Avg Dist :  2.0227307611960974\n",
      "EPS :  1.1925717564719993\n",
      "7\n",
      "Avg Dist :  16.48673955571501\n",
      "EPS :  2.0150401054032714\n"
     ]
    },
    {
     "name": "stderr",
     "output_type": "stream",
     "text": [
      "/opt/anaconda3/envs/py36-test/lib/python3.6/site-packages/numpy/core/fromnumeric.py:3373: RuntimeWarning: Mean of empty slice.\n",
      "  out=out, **kwargs)\n",
      "/opt/anaconda3/envs/py36-test/lib/python3.6/site-packages/numpy/core/_methods.py:170: RuntimeWarning: invalid value encountered in double_scalars\n",
      "  ret = ret.dtype.type(ret / rcount)\n"
     ]
    },
    {
     "name": "stdout",
     "output_type": "stream",
     "text": [
      "8\n",
      "Avg Dist :  18.243840884148938\n",
      "EPS :  2.066707754338463\n",
      "9\n",
      "Avg Dist :  27.0261288985864\n",
      "EPS :  2.2800583477523726\n",
      "10\n",
      "Avg Dist :  19.257942508083392\n",
      "EPS :  2.0948477828116965\n",
      "11\n",
      "Avg Dist :  17.347359101657542\n",
      "EPS :  2.0408371073182807\n",
      "12\n",
      "Avg Dist :  14.331474150013213\n",
      "EPS :  1.94568583057275\n",
      "13\n",
      "Avg Dist :  20.802835963203478\n",
      "EPS :  2.135652734606734\n",
      "14\n",
      "Avg Dist :  18.641298153184866\n",
      "EPS :  2.07787318328856\n",
      "15\n",
      "Avg Dist :  22.206059121121996\n",
      "EPS :  2.170790303163405\n",
      "16\n",
      "Avg Dist :  14.206197440851682\n",
      "EPS :  1.9414198313604887\n",
      "17\n",
      "Avg Dist :  19.428426635379868\n",
      "EPS :  2.099468717417357\n",
      "18\n",
      "Avg Dist :  22.455957091162592\n",
      "EPS :  2.1768719957562777\n",
      "19\n",
      "Avg Dist :  19.027469616448425\n",
      "EPS :  2.088551839570573\n",
      "20\n",
      "Avg Dist :  9.851572137858899\n",
      "EPS :  1.7716437050628664\n",
      "21\n",
      "Avg Dist :  14.239770545148659\n",
      "EPS :  1.942565841868216\n",
      "22\n",
      "Avg Dist :  22.71258718796442\n",
      "EPS :  2.1830649245911817\n",
      "23\n",
      "Avg Dist :  16.551353915597247\n",
      "EPS :  2.0170115323200593\n",
      "24\n",
      "Avg Dist :  15.058657484236086\n",
      "EPS :  1.9699108117098005\n",
      "25\n",
      "Avg Dist :  16.42357050084798\n",
      "EPS :  2.013107165934482\n",
      "26\n",
      "Avg Dist :  9.277521238880942\n",
      "EPS :  1.7452513769005835\n",
      "27\n",
      "Avg Dist :  15.601197384048776\n",
      "EPS :  1.987419208034187\n",
      "28\n",
      "Avg Dist :  17.41061166587624\n",
      "EPS :  2.0426949123980997\n",
      "29\n",
      "Avg Dist :  19.976415682977095\n",
      "EPS :  2.114118816527707\n",
      "30\n",
      "Avg Dist :  18.828006653476997\n",
      "EPS :  2.0830566728506743\n",
      "31\n",
      "Avg Dist :  27.99888995366753\n",
      "EPS :  2.300303834620618\n",
      "32\n",
      "Avg Dist :  23.2554070294918\n",
      "EPS :  2.195993176387761\n",
      "33\n",
      "Avg Dist :  18.18242815488311\n",
      "EPS :  2.0649663077624885\n",
      "34\n",
      "Avg Dist :  16.631756628870257\n",
      "EPS :  2.019456628502089\n",
      "35\n",
      "Avg Dist :  25.616954076845246\n",
      "EPS :  2.2497376293232865\n",
      "36\n",
      "Avg Dist :  22.558041537442143\n",
      "EPS :  2.1793417962689845\n",
      "37\n",
      "Avg Dist :  21.34606754686915\n",
      "EPS :  2.1494605060143988\n",
      "38\n",
      "Avg Dist :  21.291117365612916\n",
      "EPS :  2.1480758547701875\n",
      "39\n",
      "Avg Dist :  16.516725441920407\n",
      "EPS :  2.015955713909244\n",
      "40\n",
      "Avg Dist :  4.313710834303906\n",
      "EPS :  1.4411618506988926\n",
      "41\n",
      "Avg Dist :  nan\n",
      "EPS :  nan\n",
      "\u001b[1;33m[Open3D WARNING] [KDTreeFlann::SetRawData] Failed due to no data.\u001b[0;m\n",
      "42\n",
      "Avg Dist :  0.5267022859229674\n",
      "EPS :  0.85190526205699\n",
      "43\n",
      "Avg Dist :  18.980876346842283\n",
      "EPS :  2.087272085240336\n",
      "44\n",
      "Avg Dist :  21.144222629880705\n",
      "EPS :  2.1443611516424226\n",
      "45\n",
      "Avg Dist :  21.12899688419629\n",
      "EPS :  2.1439750140400267\n",
      "46\n",
      "Avg Dist :  22.644185589787636\n",
      "EPS :  2.1814194265832128\n",
      "47\n",
      "Avg Dist :  24.154408187634786\n",
      "EPS :  2.2169152981147056\n",
      "48\n"
     ]
    },
    {
     "name": "stderr",
     "output_type": "stream",
     "text": [
      "/opt/anaconda3/envs/py36-test/lib/python3.6/site-packages/numpy/core/fromnumeric.py:3373: RuntimeWarning: Mean of empty slice.\n",
      "  out=out, **kwargs)\n",
      "/opt/anaconda3/envs/py36-test/lib/python3.6/site-packages/numpy/core/_methods.py:170: RuntimeWarning: invalid value encountered in double_scalars\n",
      "  ret = ret.dtype.type(ret / rcount)\n"
     ]
    },
    {
     "name": "stdout",
     "output_type": "stream",
     "text": [
      "Avg Dist :  22.764420420737103\n",
      "EPS :  2.1843093733378813\n",
      "49\n",
      "Avg Dist :  23.779798045629615\n",
      "EPS :  2.2082693289187914\n",
      "50\n",
      "Avg Dist :  17.84347059284557\n",
      "EPS :  2.0552744925543864\n",
      "51\n",
      "Avg Dist :  24.76316196368161\n",
      "EPS :  2.230753199444852\n",
      "52\n",
      "Avg Dist :  25.456710835240333\n",
      "EPS :  2.2462111170850068\n",
      "53\n",
      "Avg Dist :  21.852761269159345\n",
      "EPS :  2.1621040004109515\n",
      "54\n",
      "Avg Dist :  18.23213368634101\n",
      "EPS :  2.0663761193883765\n",
      "55\n",
      "Avg Dist :  14.807004031244707\n",
      "EPS :  1.961628662686938\n",
      "56\n",
      "Avg Dist :  12.471955873935617\n",
      "EPS :  1.8792460298241387\n",
      "57\n",
      "Avg Dist :  nan\n",
      "EPS :  nan\n",
      "\u001b[1;33m[Open3D WARNING] [KDTreeFlann::SetRawData] Failed due to no data.\u001b[0;m\n",
      "58\n",
      "Avg Dist :  nan\n",
      "EPS :  nan\n",
      "\u001b[1;33m[Open3D WARNING] [KDTreeFlann::SetRawData] Failed due to no data.\u001b[0;m\n",
      "59\n",
      "Avg Dist :  11.743885517547577\n",
      "EPS :  1.8511983403214156\n",
      "60\n",
      "Avg Dist :  21.259837403636\n",
      "EPS :  2.147286455371533\n",
      "61\n",
      "Avg Dist :  21.88566101875081\n",
      "EPS :  2.162917313602903\n",
      "62\n",
      "Avg Dist :  23.956622839111812\n",
      "EPS :  2.2123630625236004\n",
      "63\n",
      "Avg Dist :  23.002077489533857\n",
      "EPS :  2.189988153319189\n",
      "64\n"
     ]
    },
    {
     "name": "stderr",
     "output_type": "stream",
     "text": [
      "/opt/anaconda3/envs/py36-test/lib/python3.6/site-packages/numpy/core/fromnumeric.py:3373: RuntimeWarning: Mean of empty slice.\n",
      "  out=out, **kwargs)\n",
      "/opt/anaconda3/envs/py36-test/lib/python3.6/site-packages/numpy/core/_methods.py:170: RuntimeWarning: invalid value encountered in double_scalars\n",
      "  ret = ret.dtype.type(ret / rcount)\n"
     ]
    },
    {
     "ename": "",
     "evalue": "",
     "output_type": "error",
     "traceback": [
      "\u001b[1;31mThe Kernel crashed while executing code in the the current cell or a previous cell. Please review the code in the cell(s) to identify a possible cause of the failure. Click <a href='https://aka.ms/vscodeJupyterKernelCrash'>here</a> for more info. View Jupyter <a href='command:jupyter.viewOutput'>log</a> for further details."
     ]
    },
    {
     "ename": "",
     "evalue": "",
     "output_type": "error",
     "traceback": [
      "\u001b[1;31mCanceled future for execute_request message before replies were done"
     ]
    }
   ],
   "source": [
    "print(\"Multiple Returns Classifcation Algorithm : FILDE ID - {}\".format(las_fileID))\n",
    "\n",
    "#setting static eps for entire tile\n",
    "\n",
    "# tile_segment_points = lidar_TilesubsetArr[TileDivision//2][TileDivision//2].iloc[:,:3].to_numpy()\n",
    "\n",
    "# distances = pdist(tile_segment_points)\n",
    "# avgDist = np.mean(distances)\n",
    "# eps = avgDist**(1/3)\n",
    "\n",
    "# print(\"Avg Dist : \", avgDist)\n",
    "# print(\"EPS : \",eps)\n",
    "\n",
    "#Counter : Iterating through each tile\n",
    "Tilecounter = 0\n",
    "\n",
    "start = time.time()\n",
    "Trees_Buffer = []\n",
    "for row in range(TileDivision):\n",
    "    for col in range(TileDivision):\n",
    "        print(Tilecounter)\n",
    "        Tilecounter = Tilecounter + 1\n",
    "\n",
    "        tile_segment_points = lidar_TilesubsetArr[row][col].iloc[:,:3].to_numpy()\n",
    "\n",
    "        distances = pdist(tile_segment_points[:,:2])\n",
    "        avgDist = np.mean(distances)\n",
    "        eps = avgDist**(1/4)\n",
    "\n",
    "        print(\"Avg Dist : \", avgDist)\n",
    "        print(\"EPS : \",eps)\n",
    "        \n",
    "        subTileTree_Points,  _ = TileObj_MR.Classify_MultipleReturns(tile_segment_points,eps)\n",
    "\n",
    "        for t in subTileTree_Points:\n",
    "            Trees_Buffer.append(t)\n",
    "\n",
    "end = time.time()\n",
    "MRtime = end - start\n",
    "print(\"MR Point Classification Algorithm Time : \",MRtime)\n",
    "\n",
    "print(\"Displaying Tree points\")\n",
    "pptk.viewer(Trees_Buffer)"
   ]
  },
  {
   "cell_type": "code",
   "execution_count": null,
   "metadata": {},
   "outputs": [],
   "source": []
  }
 ],
 "metadata": {
  "kernelspec": {
   "display_name": "Python 3.6.13 ('py36-test')",
   "language": "python",
   "name": "python3"
  },
  "language_info": {
   "codemirror_mode": {
    "name": "ipython",
    "version": 3
   },
   "file_extension": ".py",
   "mimetype": "text/x-python",
   "name": "python",
   "nbconvert_exporter": "python",
   "pygments_lexer": "ipython3",
   "version": "3.6.13"
  },
  "orig_nbformat": 4,
  "vscode": {
   "interpreter": {
    "hash": "395b5501581aedb2d94c1f1944a406c3cb0aeb8faa5df16e5001f1dc5b0910fe"
   }
  }
 },
 "nbformat": 4,
 "nbformat_minor": 2
}
